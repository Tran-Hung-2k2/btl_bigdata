{
 "cells": [
  {
   "cell_type": "code",
   "execution_count": 2,
   "metadata": {},
   "outputs": [],
   "source": [
    "from pyspark.sql import SparkSession\n",
    "from pyspark.sql.functions import from_json, col\n",
    "import os\n",
    "\n",
    "# Kafka settings\n",
    "kafka_topic_name = \"stack_exchange\"\n",
    "kafka_bootstrap_servers = \"localhost:39092\""
   ]
  },
  {
   "cell_type": "code",
   "execution_count": 3,
   "metadata": {},
   "outputs": [],
   "source": [
    "spark_jars = \"{},{},{},{}\".format(\n",
    "    os.getcwd() + \"/jars/spark-sql-kafka-0-10_2.12-3.5.0.jar\",\n",
    "    os.getcwd() + \"/jars/kafka-clients-3.4.1.jar\",\n",
    "    os.getcwd() + \"/jars/commons-pool2-2.11.1.jar\",\n",
    "    os.getcwd() + \"/jars/spark-token-provider-kafka-0-10_2.12-3.5.0.jar\",\n",
    ")\n",
    "\n",
    "# Spark session & context\n",
    "spark = (\n",
    "    SparkSession.builder.master(\"local\")\n",
    "    .appName(\"KafkaSparkStreaming\")\n",
    "    .config(\"spark.jars\", spark_jars)\n",
    "    .getOrCreate()\n",
    ")"
   ]
  },
  {
   "cell_type": "code",
   "execution_count": 4,
   "metadata": {},
   "outputs": [],
   "source": [
    "# Create stream dataframe setting kafka server, topic, and offset option\n",
    "df = (\n",
    "    spark.readStream.format(\"kafka\")\n",
    "    .option(\"kafka.bootstrap.servers\", kafka_bootstrap_servers)  # Kafka server\n",
    "    .option(\"subscribe\", kafka_topic_name)  # Topic\n",
    "    .load()\n",
    ")"
   ]
  },
  {
   "cell_type": "code",
   "execution_count": 5,
   "metadata": {},
   "outputs": [],
   "source": [
    "query = (\n",
    "    df.selectExpr(\"CAST(value AS STRING)\")\n",
    "    .writeStream.outputMode(\"append\")\n",
    "    .format(\"console\")\n",
    "    .start()\n",
    ")\n",
    "\n",
    "# Chờ query kết thúc\n",
    "query.awaitTermination()"
   ]
  }
 ],
 "metadata": {
  "kernelspec": {
   "display_name": "btl_bigdata",
   "language": "python",
   "name": "python3"
  },
  "language_info": {
   "codemirror_mode": {
    "name": "ipython",
    "version": 3
   },
   "file_extension": ".py",
   "mimetype": "text/x-python",
   "name": "python",
   "nbconvert_exporter": "python",
   "pygments_lexer": "ipython3",
   "version": "3.10.13"
  }
 },
 "nbformat": 4,
 "nbformat_minor": 2
}
