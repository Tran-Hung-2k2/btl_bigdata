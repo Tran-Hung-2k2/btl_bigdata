{
 "cells": [
  {
   "cell_type": "code",
   "execution_count": 32,
   "metadata": {},
   "outputs": [],
   "source": [
    "from pyspark.sql import SparkSession\n",
    "import pandas as pd\n",
    "from pyspark.sql.functions import col, regexp_replace, trim\n",
    "\n",
    "# Tạo SparkSession\n",
    "spark = SparkSession.builder.appName(\"SimpleSparkApp\").getOrCreate()"
   ]
  },
  {
   "cell_type": "code",
   "execution_count": 41,
   "metadata": {},
   "outputs": [
    {
     "name": "stdout",
     "output_type": "stream",
     "text": [
      "+---------------+--------------------+--------------------+----------+------+-------------------+--------------------+-----+-----+\n",
      "|_corrupt_record|            category|             content|num_answer|solved|               time|               title|views|votes|\n",
      "+---------------+--------------------+--------------------+----------+------+-------------------+--------------------+-----+-----+\n",
      "|           NULL|[blockchain-explo...|Closed. This ques...|         0| false|2023-11-22T12:56:11|⁰Can someone help...|   20|    0|\n",
      "|           NULL|[wallet, private-...|This question alr...|         0| false|2023-11-21T20:31:54|cannot export my ...|   31|    0|\n",
      "|           NULL|[transactions, ce...|As of today Nov 2...|         1|  true|2023-11-21T22:17:28|Supposedly six OF...|   62|    0|\n",
      "|           NULL|[lightning-networ...|Every day I find ...|         0| false|2023-11-22T08:24:03|Are there interna...|   13|    2|\n",
      "|           NULL|[bitcoin-core, pe...|I'd like to fine-...|         0| false|2023-11-22T12:01:06|Page size of read...|   46|    2|\n",
      "|           NULL|[bitcoin-cash, bi...|Questions about c...|         0| false|2023-11-22T12:09:58|Bitcoin PSBT does...|   25|    0|\n",
      "|           NULL|[private-key, bip...|Questions about c...|         0| false|2023-11-20T21:14:11|Bip32 Root Key in...|   44|    1|\n",
      "|           NULL|[private-key, wal...|Closed. This ques...|         0| false|2023-11-20T23:33:58|How to recover Bi...|   57|    0|\n",
      "|           NULL|   [bitcoind, linux]|I run bitcoind on...|         0| false|2023-11-21T05:53:19|It necessary to s...|   11|    1|\n",
      "|           NULL|[bitcoind, linux,...|I was interested ...|         1| false|2023-11-21T06:20:52|How to replicated...|   35|    0|\n",
      "|           NULL|    [elliptic-curve]|Thank you all ver...|         1|  true|2023-11-21T15:40:34|Why do we have \"c...|   85|   -1|\n",
      "|           NULL|[bitcoin-core, bi...|In BIP152 impleme...|         0| false|2023-11-19T06:09:45|Where does Bitcoi...|   39|    0|\n",
      "|           NULL|[mining-theory, b...|I am working on a...|         1| false|2023-11-12T02:43:50|What are the exac...|   44|    2|\n",
      "|           NULL|[altcoin, blockch...|What Satoshi Nako...|         2|  true|2023-11-22T13:44:41|What Satoshi Nako...|   74|    2|\n",
      "|           NULL| [lightning-network]|I bought bitcoin ...|         0| false|2023-11-22T14:10:12|I bought a bitcoi...|   21|    0|\n",
      "|           NULL|        [blockchain]|Missing Bitcoins ...|         1| false|2023-11-01T08:23:40|missing BTC - on ...|   81|    1|\n",
      "|           NULL|[network, tools, ...|I've seen that Wi...|         1| false|2023-10-20T09:48:41|How to use Wiresh...|  260|    4|\n",
      "|           NULL|[history, chain-r...|We have an extinc...|         1| false|2023-10-20T14:02:50|When was the most...|   53|    2|\n",
      "|           NULL|[transactions, lo...|This question alr...|         2| false|2023-10-20T15:14:51|How does CLTV pre...|   61|    2|\n",
      "|           NULL|[raw-transaction,...|I'm parsing the b...|         1|  true|2023-10-21T20:30:54|Processing bitcoi...|  137|    3|\n",
      "+---------------+--------------------+--------------------+----------+------+-------------------+--------------------+-----+-----+\n",
      "only showing top 20 rows\n",
      "\n"
     ]
    }
   ],
   "source": [
    "# Đường dẫn đến tệp JSON\n",
    "json_file_path = \"../crawl/data/bitcoin.json\"\n",
    "\n",
    "# Đọc tệp JSON vào DataFrame\n",
    "df = spark.read.json(json_file_path)\n",
    "\n",
    "# Loại bỏ các tag HTML và xóa khoảng trắng\n",
    "df_processed = (\n",
    "    df.withColumn(\"content\", regexp_replace(\"content\", \"<.*?>\", \"\"))\n",
    "    .withColumn(\"content\", regexp_replace(\"content\", \"\\\\s+\", \" \"))\n",
    "    .withColumn(\"content\", trim(col(\"content\")))\n",
    ")\n",
    "\n",
    "# Hiển thị DataFrame\n",
    "df_processed.show()"
   ]
  },
  {
   "cell_type": "code",
   "execution_count": 42,
   "metadata": {},
   "outputs": [
    {
     "name": "stdout",
     "output_type": "stream",
     "text": [
      "+-----------------------------------------------------------------------------+\n",
      "|category                                                                     |\n",
      "+-----------------------------------------------------------------------------+\n",
      "|[blockchain-explorer]                                                        |\n",
      "|[wallet, private-key-export]                                                 |\n",
      "|[transactions, censorship-resistance]                                        |\n",
      "|[lightning-network, lightning-network-daemon, invoices]                      |\n",
      "|[bitcoin-core, performance]                                                  |\n",
      "|[bitcoin-cash, bitcoinjs, bip174-psbt]                                       |\n",
      "|[private-key, bip32-hd-wallets, signature, taproot, fraud]                   |\n",
      "|[private-key, wallet-recovery, recover-private-key, funds, zerocoin]         |\n",
      "|[bitcoind, linux]                                                            |\n",
      "|[bitcoind, linux, bitcoin.conf, memory]                                      |\n",
      "|[elliptic-curve]                                                             |\n",
      "|[bitcoin-core, bitcoind, bitcoin-core-development, bandwidth, compact-blocks]|\n",
      "|[mining-theory, block, block-header]                                         |\n",
      "|[altcoin, blockchain-fork, history, satoshi-nakamoto, soft-fork]             |\n",
      "|[lightning-network]                                                          |\n",
      "|[blockchain]                                                                 |\n",
      "|[network, tools, packets]                                                    |\n",
      "|[history, chain-reorganization]                                              |\n",
      "|[transactions, locktime, checklocktimeverify]                                |\n",
      "|[raw-transaction, coinbase-transaction, input-script]                        |\n",
      "+-----------------------------------------------------------------------------+\n",
      "only showing top 20 rows\n",
      "\n"
     ]
    }
   ],
   "source": [
    "df_processed.select(\"category\").show(truncate=False)"
   ]
  },
  {
   "cell_type": "code",
   "execution_count": 34,
   "metadata": {},
   "outputs": [],
   "source": [
    "# Đường dẫn đến tệp JSON đầu ra\n",
    "output_json_path = \"./output\"\n",
    "\n",
    "# Ghi DataFrame ra tệp JSON với mode là \"overwrite\"\n",
    "df_processed.write.mode(\"overwrite\").json(output_json_path)"
   ]
  },
  {
   "cell_type": "code",
   "execution_count": null,
   "metadata": {},
   "outputs": [],
   "source": [
    "# Đóng SparkSession\n",
    "spark.stop()"
   ]
  }
 ],
 "metadata": {
  "kernelspec": {
   "display_name": "btl_bigdata",
   "language": "python",
   "name": "python3"
  },
  "language_info": {
   "codemirror_mode": {
    "name": "ipython",
    "version": 3
   },
   "file_extension": ".py",
   "mimetype": "text/x-python",
   "name": "python",
   "nbconvert_exporter": "python",
   "pygments_lexer": "ipython3",
   "version": "3.10.13"
  }
 },
 "nbformat": 4,
 "nbformat_minor": 2
}
